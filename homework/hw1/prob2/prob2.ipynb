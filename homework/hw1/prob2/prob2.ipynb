{
 "cells": [
  {
   "cell_type": "code",
   "execution_count": null,
   "metadata": {},
   "outputs": [],
   "source": [
    "%config InlineBackend.figure_format = 'svg'\n",
    "%matplotlib inline\n",
    "\n",
    "import itertools\n",
    "import multiprocessing\n",
    "from multiprocessing.dummy import Pool as ThreadPool\n",
    "from pathlib import Path\n",
    "\n",
    "import numpy as np\n",
    "import matplotlib.pyplot as plt\n",
    "import scipy as sp\n",
    "# Apparently, SNS stands for \"Samuel Norman Seaborn\", a fictional\n",
    "# character from The West Wing\n",
    "import seaborn as sns\n",
    "import sympy\n",
    "\n",
    "sns.set()\n",
    "sympy.init_printing()\n",
    "# Make the figures directory if it doesn't exist.\n",
    "Path('figures/').mkdir(exist_ok=True)"
   ]
  },
  {
   "cell_type": "code",
   "execution_count": null,
   "metadata": {},
   "outputs": [],
   "source": [
    "def generate_seed(n, scale=100):\n",
    "    \"\"\"Generates a starting seed of the given size.\n",
    "\n",
    "    Pick random coordinates in the `scale`x`scale` grid uniformly.\n",
    "\n",
    "    :param n: The size of the individual to generate.\n",
    "    :param scale: How much to scale the individual's coordinates by.\n",
    "    \"\"\"\n",
    "    # Scale up the uniform values from [0, 1].\n",
    "    return np.random.rand(n, 2) * scale\n",
    "\n",
    "def generate_population(seed, size, scale=100):\n",
    "    \"\"\"Generate a population of individuals with the given size.\n",
    "\n",
    "    Pick random coordinates in the `scale`x`scale` grid uniformly.\n",
    "\n",
    "    :param seed: An unsorted array of city locations.\n",
    "    :param size: The number of individuals to generate.\n",
    "    :param scale: How much to scale the individual's coordinates by.\n",
    "    \"\"\"\n",
    "    population = np.zeros((size, *seed.shape))\n",
    "    for i in range(size):\n",
    "        individual = np.copy(seed)\n",
    "        np.random.shuffle(individual)\n",
    "        population[i] = individual\n",
    "    return population"
   ]
  },
  {
   "cell_type": "code",
   "execution_count": null,
   "metadata": {},
   "outputs": [],
   "source": [
    "PROBLEM_SIZE = 50\n",
    "individual = generate_seed(PROBLEM_SIZE)\n",
    "plt.plot(individual[:, 0], individual[:, 1], 'r')\n",
    "plt.plot(individual[:, 0], individual[:, 1], 'o')\n",
    "plt.title('A random individual')\n",
    "# plt.axis('equal')\n",
    "plt.axis('scaled')\n",
    "plt.xlabel('$x$')\n",
    "plt.ylabel('$y$')\n",
    "plt.savefig('figures/prob2-random-individual.pdf')\n",
    "plt.show()"
   ]
  },
  {
   "cell_type": "code",
   "execution_count": null,
   "metadata": {},
   "outputs": [],
   "source": [
    "def pairwise(iterable):\n",
    "    \"\"\"Iterate over the given iterable in pairs.\n",
    "\n",
    "    pairwise([1, 2, 3, 4]) -> (1, 2), (2, 3), (3, 4)\n",
    "    \"\"\"\n",
    "    a, b = itertools.tee(iterable)\n",
    "    # Advance b one step\n",
    "    next(b, None)\n",
    "    return zip(a, b)"
   ]
  },
  {
   "cell_type": "code",
   "execution_count": null,
   "metadata": {},
   "outputs": [],
   "source": [
    "def fitness(individual):\n",
    "    \"\"\"Evaluate the fitness of the given individual.\n",
    "\n",
    "    Compute the Euclidean distance between every pair of cities in the individual\n",
    "    and add them together.\n",
    "\n",
    "    :param individual: An array of cities, where each city is an (x, y) pair.\n",
    "    :type individual: np.ndarray with shape (n, 2)\n",
    "    :return: The fitness of the individual.\n",
    "    \"\"\"\n",
    "    return -sum(np.linalg.norm(c1 - c2) for c1, c2 in pairwise(individual))"
   ]
  },
  {
   "cell_type": "code",
   "execution_count": null,
   "metadata": {},
   "outputs": [],
   "source": [
    "def swap_mutation(individual):\n",
    "    \"\"\"Swap two random cities in the individual.\n",
    "\n",
    "    Returns a new mutated copy of the given array.\n",
    "    \"\"\"\n",
    "    # Arrays are (kind of) passed by reference in Python.\n",
    "    x = np.copy(individual)\n",
    "    # Generate two valid indices to swap.\n",
    "    i = np.random.randint(0, len(x) - 2)\n",
    "    j = np.random.randint(i, len(x) - 1)\n",
    "    # array indexing returns views, not copies\n",
    "    temp = np.copy(x[i])\n",
    "    x[i] = x[j]\n",
    "    x[j] = temp\n",
    "\n",
    "    return x"
   ]
  },
  {
   "cell_type": "code",
   "execution_count": null,
   "metadata": {},
   "outputs": [],
   "source": [
    "a = np.array([*zip(range(10), range(10))])\n",
    "swap_mutation(a)"
   ]
  },
  {
   "cell_type": "code",
   "execution_count": null,
   "metadata": {},
   "outputs": [],
   "source": [
    "def insertion_mutation(individual):\n",
    "    \"\"\"Insert a random value in the list somewhere else in the list.\n",
    "\n",
    "    Returns a new mutated copy of the given array.\n",
    "    \"\"\"\n",
    "    i = np.random.randint(0, len(individual) - 2)\n",
    "    j = np.random.randint(i, len(individual) - 1)\n",
    "    # Delete the element at index j and insert it before index i.\n",
    "    temp = np.delete(individual, j, axis=0)\n",
    "    temp = np.insert(temp, i, individual[j], axis=0)\n",
    "\n",
    "    return temp"
   ]
  },
  {
   "cell_type": "code",
   "execution_count": null,
   "metadata": {},
   "outputs": [],
   "source": [
    "# print(a)\n",
    "insertion_mutation(a)"
   ]
  },
  {
   "cell_type": "code",
   "execution_count": null,
   "metadata": {},
   "outputs": [],
   "source": [
    "def displacement_mutation(individual):\n",
    "    \"\"\"Inserts a random subarray in the list somewhere else.\n",
    "\n",
    "    Returns a new mutated copy of the given array.\n",
    "    \"\"\"\n",
    "    # Pick a random subarray\n",
    "    i = np.random.randint(0, len(individual) - 2)\n",
    "    j = np.random.randint(i, len(individual) - 1)\n",
    "    subarray = individual[i:j]\n",
    "    # Delete the given subarray\n",
    "    tmp = np.delete(individual, range(i, j), axis=0)\n",
    "    k = np.random.randint(0, len(tmp) - 1)\n",
    "\n",
    "    return np.insert(tmp, k, subarray, axis=0)"
   ]
  },
  {
   "cell_type": "code",
   "execution_count": null,
   "metadata": {},
   "outputs": [],
   "source": [
    "displacement_mutation(a)"
   ]
  },
  {
   "cell_type": "code",
   "execution_count": null,
   "metadata": {},
   "outputs": [],
   "source": [
    "def shuffle_mutation(individual):\n",
    "    \"\"\"Shuffles a random subarray in the given individual.\n",
    "\n",
    "    Returns a new mutated copy of the given array.\n",
    "    \"\"\"\n",
    "    # Pick a random subarray\n",
    "    i = np.random.randint(0, len(individual) - 2)\n",
    "    j = np.random.randint(i, len(individual) - 1)\n",
    "    x = np.copy(individual)\n",
    "    np.random.shuffle(x[i:j])\n",
    "\n",
    "    return x"
   ]
  },
  {
   "cell_type": "code",
   "execution_count": null,
   "metadata": {},
   "outputs": [],
   "source": [
    "shuffle_mutation(a)"
   ]
  },
  {
   "cell_type": "code",
   "execution_count": null,
   "metadata": {},
   "outputs": [],
   "source": [
    "def inversion_mutation(individual):\n",
    "    \"\"\"Inverts a random subarray in the given individual.\n",
    "\n",
    "    Returns a new mutated copy of the given array.\n",
    "    \"\"\"\n",
    "    i = np.random.randint(0, len(individual) - 2)\n",
    "    j = np.random.randint(i, len(individual) - 1)\n",
    "    x = np.copy(individual)\n",
    "    # Invert the subarray.\n",
    "    x[i:j] = x[i:j][::-1]\n",
    "\n",
    "    return x"
   ]
  },
  {
   "cell_type": "code",
   "execution_count": null,
   "metadata": {},
   "outputs": [],
   "source": [
    "inversion_mutation(a)"
   ]
  },
  {
   "cell_type": "code",
   "execution_count": null,
   "metadata": {},
   "outputs": [],
   "source": [
    "def mutate(individual, method='inversion'):\n",
    "    \"\"\"Mutate the given individual via the given method.\n",
    "\n",
    "    Returns a new mutated copy of the given array.\n",
    "\n",
    "    :param method: One of 'swap', 'insertion', 'displacement',\n",
    "    'shuffle', or 'inversion'. Defaults to 'inversion'.\n",
    "    \"\"\"\n",
    "    methods = {\n",
    "        'swap': swap_mutation,\n",
    "        'insertion': insertion_mutation,\n",
    "        'displacement': displacement_mutation,\n",
    "        'shuffle': shuffle_mutation,\n",
    "        'inversion': inversion_mutation,\n",
    "    }\n",
    "    return methods[method](individual)"
   ]
  },
  {
   "cell_type": "code",
   "execution_count": null,
   "metadata": {},
   "outputs": [],
   "source": [
    "mutate(a)"
   ]
  },
  {
   "cell_type": "code",
   "execution_count": null,
   "metadata": {},
   "outputs": [],
   "source": [
    "def deterministic_selection(population, size, func):\n",
    "    \"\"\"Deterministically select the most fit from the given population.\n",
    "\n",
    "    Use the given fitness function to rank the population, then pick\n",
    "    the next `size` of the population to move on. This assumes that,\n",
    "    for a problem without recombination, the mutated individuals have\n",
    "    been mixed in with the original population.\n",
    "\n",
    "    :param population: The population to cull.\n",
    "    :param size: The desired size of the population.\n",
    "    :param func: The fitness function to rank the population by.\n",
    "    :returns: The culled population, sorted upwards in increasing fitness.\n",
    "    \"\"\"\n",
    "    fitnesses = np.array([func(p) for p in population])\n",
    "    indices = np.argsort(fitnesses, axis=0)\n",
    "    euthanize = len(population) - size\n",
    "    return population[indices][euthanize:]"
   ]
  },
  {
   "cell_type": "code",
   "execution_count": null,
   "metadata": {},
   "outputs": [],
   "source": [
    "seed = generate_seed(4)\n",
    "p = generate_population(seed, 10)\n",
    "deterministic_selection(p, 5, fitness)"
   ]
  },
  {
   "cell_type": "code",
   "execution_count": null,
   "metadata": {},
   "outputs": [],
   "source": [
    "def stochastic_selection(population, size, func):\n",
    "    \"\"\"Randomly select the most fit from the given population.\n",
    "    \n",
    "    Select without replacement an individual with probability\n",
    "    proportional to its fitness.\n",
    "    \n",
    "    :param population: The population to cull.\n",
    "    :param size: The desired size of the population.\n",
    "    :param func: The fitness function to rank the population by.\n",
    "    :returns: The culled population, unsorted.\n",
    "    \"\"\"\n",
    "    fitnesses = np.array([func(p) for p in population])\n",
    "    probabilities = fitnesses / np.sum(fitnesses)\n",
    "    survivors = np.random.choice(len(population), size, replace=False, p=probabilities)\n",
    "    return population[survivors]"
   ]
  },
  {
   "cell_type": "code",
   "execution_count": null,
   "metadata": {},
   "outputs": [],
   "source": [
    "p = generate_population(seed, 10)\n",
    "stochastic_selection(p, 5, fitness)"
   ]
  },
  {
   "cell_type": "code",
   "execution_count": null,
   "metadata": {},
   "outputs": [],
   "source": [
    "def select(population, size, func, method='deterministic'):\n",
    "    \"\"\"Select the `size` most fit from the given population.\n",
    "\n",
    "    :param population: The population to cull.\n",
    "    :param size: The desired size of the population.\n",
    "    :param func: The fitness function to rank the population by.\n",
    "    :param method: One of 'deterministic' or 'stochastic'.\n",
    "    :returns: The culled population, in arbitrary order.\n",
    "    \"\"\"\n",
    "    methods = {\n",
    "        'stochastic': stochastic_selection,\n",
    "        'deterministic': deterministic_selection,\n",
    "    }\n",
    "    return methods[method](population, size, func)"
   ]
  },
  {
   "cell_type": "code",
   "execution_count": null,
   "metadata": {},
   "outputs": [],
   "source": [
    "p = generate_population(seed, 10)\n",
    "select(p, 5, fitness)"
   ]
  },
  {
   "cell_type": "code",
   "execution_count": null,
   "metadata": {},
   "outputs": [],
   "source": [
    "def simple_ea(problem, size, func, iters, mutation='inversion', selection='deterministic'):\n",
    "    \"\"\"Run the standard evolutionary algorithm to solve the TSP.\n",
    "\n",
    "    This implementation does not use recombination.\n",
    "\n",
    "    :param size: The population size to use.\n",
    "    :param func: The fitness function to use.\n",
    "    :param iters: The number of iterations (generations) to run.\n",
    "    :param mutation: The type of mutation to use. One of 'swap', 'insertion',\n",
    "    'displacement', 'shuffle', or 'inversion'.\n",
    "    :param selection: The type of selection to use. One of 'deterministic',\n",
    "    or 'stochastic'.\n",
    "    \"\"\"\n",
    "    population = generate_population(problem, size)\n",
    "    best_fitnesses = np.zeros(iters)\n",
    "    best_individuals = np.zeros((iters, *problem.shape))\n",
    "    for i in range(iters):\n",
    "        # Do not recombine population.\n",
    "        mutations = np.array([mutate(p, method=mutation) for p in population])\n",
    "        combined = np.concatenate((population, mutations))\n",
    "        population = select(combined, size, func, method=selection)\n",
    "        fitnesses = np.array([func(p) for p in population])\n",
    "        best = fitnesses.argmax()\n",
    "        best_fitnesses[i] = fitnesses[best]\n",
    "        best_individuals[i] = population[best]\n",
    "    \n",
    "    return best_fitnesses, best_individuals"
   ]
  },
  {
   "cell_type": "code",
   "execution_count": null,
   "metadata": {},
   "outputs": [],
   "source": [
    "def plot_summary(fitnesses, individuals, description=''):\n",
    "    \"\"\"Plot a summary of a given run of the simple_ea algorithm.\"\"\"\n",
    "    plt.plot(range(len(fitnesses)), fitnesses)\n",
    "    plt.title('Population fitness over time')\n",
    "    plt.xlabel('generation')\n",
    "    plt.ylabel('fitness')\n",
    "    plt.savefig(f'figures/prob2-fitness-{description}.pdf')\n",
    "    plt.show()\n",
    "    \n",
    "    best = fitnesses.argmax()\n",
    "    best = individuals[best]\n",
    "    plt.plot(best[:, 0], best[:, 1], 'r')\n",
    "    plt.plot(best[:, 0], best[:, 1], 'o')\n",
    "    plt.title(f'The best {description} individual')\n",
    "    plt.axis('scaled')\n",
    "    plt.xlabel('$x$')\n",
    "    plt.ylabel('$y$')\n",
    "    plt.savefig(f'figures/prob2-best-{description}.pdf')\n",
    "    plt.show()"
   ]
  },
  {
   "cell_type": "code",
   "execution_count": null,
   "metadata": {},
   "outputs": [],
   "source": [
    "N = 20\n",
    "pop_size = 80\n",
    "generations = 1000\n",
    "problem = generate_seed(N)\n",
    "fitnesses, individuals = simple_ea(problem, pop_size, fitness, generations, mutation='inversion', selection='stochastic')\n",
    "\n",
    "plot_summary(fitnesses, individuals, description='stochastic')\n",
    "\n",
    "fitnesses, individuals = simple_ea(problem, pop_size, fitness, generations, mutation='inversion', selection='deterministic')\n",
    "\n",
    "plot_summary(fitnesses, individuals, description='deterministic')"
   ]
  },
  {
   "cell_type": "code",
   "execution_count": null,
   "metadata": {},
   "outputs": [],
   "source": []
  }
 ],
 "metadata": {
  "kernelspec": {
   "display_name": "Python 3",
   "language": "python",
   "name": "python3"
  },
  "language_info": {
   "codemirror_mode": {
    "name": "ipython",
    "version": 3
   },
   "file_extension": ".py",
   "mimetype": "text/x-python",
   "name": "python",
   "nbconvert_exporter": "python",
   "pygments_lexer": "ipython3",
   "version": "3.6.7"
  }
 },
 "nbformat": 4,
 "nbformat_minor": 2
}
