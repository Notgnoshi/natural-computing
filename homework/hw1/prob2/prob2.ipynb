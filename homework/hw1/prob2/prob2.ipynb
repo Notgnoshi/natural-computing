{
 "cells": [
  {
   "cell_type": "code",
   "execution_count": null,
   "metadata": {},
   "outputs": [],
   "source": [
    "%config InlineBackend.figure_format = 'svg'\n",
    "%matplotlib inline\n",
    "\n",
    "import itertools\n",
    "import multiprocessing\n",
    "from multiprocessing.dummy import Pool as ThreadPool\n",
    "from pathlib import Path\n",
    "\n",
    "import numpy as np\n",
    "import matplotlib.pyplot as plt\n",
    "import scipy as sp\n",
    "# Apparently, SNS stands for \"Samuel Norman Seaborn\", a fictional\n",
    "# character from The West Wing\n",
    "import seaborn as sns\n",
    "import sympy\n",
    "\n",
    "sns.set()\n",
    "sympy.init_printing()\n",
    "# Make the figures directory if it doesn't exist.\n",
    "Path('figures/').mkdir(exist_ok=True)"
   ]
  },
  {
   "cell_type": "code",
   "execution_count": null,
   "metadata": {},
   "outputs": [],
   "source": [
    "def generate_individual(n, scale=100):\n",
    "    \"\"\"Generates an individual solution of the given size.\n",
    "\n",
    "    Pick random coordinates in the `scale`x`scale` grid uniformly.\n",
    "\n",
    "    :param n: The size of the individual to generate.\n",
    "    :param scale: How much to scale the individual's coordinates by.\n",
    "    \"\"\"\n",
    "    # Scale up the uniform values from [0, 1].\n",
    "    return np.random.rand(n, 2) * scale\n",
    "\n",
    "def generate_population(size, n, scale=100):\n",
    "    \"\"\"Generate a population of individuals with the given size.\n",
    "\n",
    "    Pick random coordinates in the `scale`x`scale` grid uniformly.\n",
    "\n",
    "    :param size: The number of individuals to generate.\n",
    "    :param n: The size of each individual.\n",
    "    :param scale: How much to scale the individual's coordinates by.\n",
    "    \"\"\"\n",
    "    # Scale up the uniform values from [0, 1].\n",
    "    return np.random.rand(size, n, 2) * scale"
   ]
  },
  {
   "cell_type": "code",
   "execution_count": null,
   "metadata": {},
   "outputs": [],
   "source": [
    "PROBLEM_SIZE = 50\n",
    "individual = generate_individual(PROBLEM_SIZE)\n",
    "plt.plot(individual[:, 0], individual[:, 1], 'r')\n",
    "plt.plot(individual[:, 0], individual[:, 1], 'o')\n",
    "plt.title('A random individual')\n",
    "# plt.axis('equal')\n",
    "plt.axis('scaled')\n",
    "plt.xlabel('$x$')\n",
    "plt.ylabel('$y$')\n",
    "plt.savefig('figures/prob2-random-individual.pdf')\n",
    "plt.show()"
   ]
  },
  {
   "cell_type": "code",
   "execution_count": null,
   "metadata": {},
   "outputs": [],
   "source": [
    "def pairwise(iterable):\n",
    "    \"\"\"Iterate over the given iterable in pairs.\n",
    "\n",
    "    pairwise([1, 2, 3, 4]) -> (1, 2), (2, 3), (3, 4)\n",
    "    \"\"\"\n",
    "    a, b = itertools.tee(iterable)\n",
    "    # Advance b one step\n",
    "    next(b, None)\n",
    "    return zip(a, b)"
   ]
  },
  {
   "cell_type": "code",
   "execution_count": null,
   "metadata": {},
   "outputs": [],
   "source": [
    "def fitness(individual):\n",
    "    \"\"\"Evaluate the fitness of the given individual.\n",
    "\n",
    "    Compute the Euclidean distance between every pair of cities in the individual\n",
    "    and add them together.\n",
    "\n",
    "    :param individual: An array of cities, where each city is an (x, y) pair.\n",
    "    :type individual: np.ndarray with shape (n, 2)\n",
    "    :return: The fitness of the individual.\n",
    "    \"\"\"\n",
    "    return sum(np.linalg.norm(c1 - c2) for c1, c2 in pairwise(individual))"
   ]
  },
  {
   "cell_type": "code",
   "execution_count": null,
   "metadata": {},
   "outputs": [],
   "source": []
  }
 ],
 "metadata": {
  "kernelspec": {
   "display_name": "Python 3",
   "language": "python",
   "name": "python3"
  },
  "language_info": {
   "codemirror_mode": {
    "name": "ipython",
    "version": 3
   },
   "file_extension": ".py",
   "mimetype": "text/x-python",
   "name": "python",
   "nbconvert_exporter": "python",
   "pygments_lexer": "ipython3",
   "version": "3.6.7"
  }
 },
 "nbformat": 4,
 "nbformat_minor": 2
}
