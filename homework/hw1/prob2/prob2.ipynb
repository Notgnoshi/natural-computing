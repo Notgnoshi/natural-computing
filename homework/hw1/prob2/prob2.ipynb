{
 "cells": [
  {
   "cell_type": "code",
   "execution_count": null,
   "metadata": {},
   "outputs": [],
   "source": [
    "%config InlineBackend.figure_format = 'svg'\n",
    "%matplotlib inline\n",
    "\n",
    "import itertools\n",
    "import multiprocessing\n",
    "from multiprocessing.dummy import Pool as ThreadPool\n",
    "from pathlib import Path\n",
    "\n",
    "import numpy as np\n",
    "import matplotlib.pyplot as plt\n",
    "import scipy as sp\n",
    "# Apparently, SNS stands for \"Samuel Norman Seaborn\", a fictional\n",
    "# character from The West Wing\n",
    "import seaborn as sns\n",
    "import sympy\n",
    "\n",
    "sns.set()\n",
    "sympy.init_printing()\n",
    "# Make the figures directory if it doesn't exist.\n",
    "Path('figures/').mkdir(exist_ok=True)"
   ]
  },
  {
   "cell_type": "code",
   "execution_count": null,
   "metadata": {},
   "outputs": [],
   "source": [
    "def generate_individual(n, scale=100):\n",
    "    \"\"\"Generates an individual solution of the given size.\n",
    "\n",
    "    Pick random coordinates in the `scale`x`scale` grid uniformly.\n",
    "\n",
    "    :param n: The size of the individual to generate.\n",
    "    :param scale: How much to scale the individual's coordinates by.\n",
    "    \"\"\"\n",
    "    # Scale up the uniform values from [0, 1].\n",
    "    return np.random.rand(n, 2) * scale\n",
    "\n",
    "def generate_population(size, n, scale=100):\n",
    "    \"\"\"Generate a population of individuals with the given size.\n",
    "\n",
    "    Pick random coordinates in the `scale`x`scale` grid uniformly.\n",
    "\n",
    "    :param size: The number of individuals to generate.\n",
    "    :param n: The size of each individual.\n",
    "    :param scale: How much to scale the individual's coordinates by.\n",
    "    \"\"\"\n",
    "    # Scale up the uniform values from [0, 1].\n",
    "    return np.random.rand(size, n, 2) * scale"
   ]
  },
  {
   "cell_type": "code",
   "execution_count": null,
   "metadata": {},
   "outputs": [],
   "source": [
    "PROBLEM_SIZE = 50\n",
    "individual = generate_individual(PROBLEM_SIZE)\n",
    "plt.plot(individual[:, 0], individual[:, 1], 'r')\n",
    "plt.plot(individual[:, 0], individual[:, 1], 'o')\n",
    "plt.title('A random individual')\n",
    "# plt.axis('equal')\n",
    "plt.axis('scaled')\n",
    "plt.xlabel('$x$')\n",
    "plt.ylabel('$y$')\n",
    "plt.savefig('figures/prob2-random-individual.pdf')\n",
    "plt.show()"
   ]
  },
  {
   "cell_type": "code",
   "execution_count": null,
   "metadata": {},
   "outputs": [],
   "source": [
    "def pairwise(iterable):\n",
    "    \"\"\"Iterate over the given iterable in pairs.\n",
    "\n",
    "    pairwise([1, 2, 3, 4]) -> (1, 2), (2, 3), (3, 4)\n",
    "    \"\"\"\n",
    "    a, b = itertools.tee(iterable)\n",
    "    # Advance b one step\n",
    "    next(b, None)\n",
    "    return zip(a, b)"
   ]
  },
  {
   "cell_type": "code",
   "execution_count": null,
   "metadata": {},
   "outputs": [],
   "source": [
    "def fitness(individual):\n",
    "    \"\"\"Evaluate the fitness of the given individual.\n",
    "\n",
    "    Compute the Euclidean distance between every pair of cities in the individual\n",
    "    and add them together.\n",
    "\n",
    "    :param individual: An array of cities, where each city is an (x, y) pair.\n",
    "    :type individual: np.ndarray with shape (n, 2)\n",
    "    :return: The fitness of the individual.\n",
    "    \"\"\"\n",
    "    return sum(np.linalg.norm(c1 - c2) for c1, c2 in pairwise(individual))"
   ]
  },
  {
   "cell_type": "code",
   "execution_count": null,
   "metadata": {},
   "outputs": [],
   "source": [
    "def swap_mutation(individual):\n",
    "    \"\"\"Swap two random cities in the individual.\n",
    "\n",
    "    Returns a new mutated copy of the given array.\n",
    "    \"\"\"\n",
    "    # Arrays are (kind of) passed by reference in Python.\n",
    "    x = np.copy(individual)\n",
    "    # Generate two valid indices to swap.\n",
    "    i = np.random.randint(0, len(x) - 1)\n",
    "    j = np.random.randint(0, len(x) - 1)\n",
    "\n",
    "    x[i], x[j] = x[j], x[i]\n",
    "\n",
    "    return x"
   ]
  },
  {
   "cell_type": "code",
   "execution_count": null,
   "metadata": {},
   "outputs": [],
   "source": [
    "a = np.array(range(10))\n",
    "swap_mutation(a)"
   ]
  },
  {
   "cell_type": "code",
   "execution_count": null,
   "metadata": {},
   "outputs": [],
   "source": [
    "def insertion_mutation(individual):\n",
    "    \"\"\"Insert a random value in the list somewhere else in the list.\n",
    "\n",
    "    Returns a new mutated copy of the given array.\n",
    "    \"\"\"\n",
    "    i = np.random.randint(0, len(individual) - 1)\n",
    "    j = np.random.randint(0, len(individual) - 1)\n",
    "\n",
    "    # Delete the element at index j and insert it before index i.\n",
    "    return np.insert(np.delete(individual, j), i, individual[j])"
   ]
  },
  {
   "cell_type": "code",
   "execution_count": null,
   "metadata": {},
   "outputs": [],
   "source": [
    "insertion_mutation(a)"
   ]
  },
  {
   "cell_type": "code",
   "execution_count": null,
   "metadata": {},
   "outputs": [],
   "source": [
    "def displacement_mutation(individual):\n",
    "    \"\"\"Inserts a random subarray in the list somewhere else.\n",
    "\n",
    "    Returns a new mutated copy of the given array.\n",
    "    \"\"\"\n",
    "    # Pick a random subarray\n",
    "    i = np.random.randint(0, len(individual) - 2)\n",
    "    j = np.random.randint(i, len(individual) - 1)\n",
    "    subarray = individual[i:j]\n",
    "    # Delete the given subarray\n",
    "    tmp = np.delete(individual, range(i, j))\n",
    "    k = np.random.randint(0, len(tmp) - 1)\n",
    "\n",
    "    return np.insert(tmp, k, subarray)"
   ]
  },
  {
   "cell_type": "code",
   "execution_count": null,
   "metadata": {},
   "outputs": [],
   "source": [
    "displacement_mutation(a)"
   ]
  },
  {
   "cell_type": "code",
   "execution_count": null,
   "metadata": {},
   "outputs": [],
   "source": [
    "def shuffle_mutation(individual):\n",
    "    \"\"\"Shuffles a random subarray in the given individual.\n",
    "\n",
    "    Returns a new mutated copy of the given array.\n",
    "    \"\"\"\n",
    "    # Pick a random subarray\n",
    "    i = np.random.randint(0, len(individual) - 2)\n",
    "    j = np.random.randint(i, len(individual) - 1)\n",
    "    x = np.copy(individual)\n",
    "    np.random.shuffle(x[i:j])\n",
    "\n",
    "    return x"
   ]
  },
  {
   "cell_type": "code",
   "execution_count": null,
   "metadata": {},
   "outputs": [],
   "source": [
    "shuffle_mutation(a)"
   ]
  },
  {
   "cell_type": "code",
   "execution_count": null,
   "metadata": {},
   "outputs": [],
   "source": [
    "def inversion_mutation(individual):\n",
    "    \"\"\"Inverts a random subarray in the given individual.\n",
    "\n",
    "    Returns a new mutated copy of the given array.\n",
    "    \"\"\"\n",
    "    i = np.random.randint(0, len(individual) - 2)\n",
    "    j = np.random.randint(i, len(individual) - 1)\n",
    "    x = np.copy(individual)\n",
    "    # Invert the subarray.\n",
    "    x[i:j] = x[i:j][::-1]\n",
    "\n",
    "    return x"
   ]
  },
  {
   "cell_type": "code",
   "execution_count": null,
   "metadata": {},
   "outputs": [],
   "source": [
    "inversion_mutation(a)"
   ]
  },
  {
   "cell_type": "code",
   "execution_count": null,
   "metadata": {},
   "outputs": [],
   "source": [
    "def mutate(individual, method='inversion'):\n",
    "    \"\"\"Mutate the given individual via the given method.\n",
    "\n",
    "    Returns a new mutated copy of the given array.\n",
    "\n",
    "    :param method: One of 'swap', 'insertion', 'displacement',\n",
    "    'shuffle', or 'inversion'. Defaults to 'inversion'.\n",
    "    \"\"\"\n",
    "    methods = {\n",
    "        'swap': swap_mutation,\n",
    "        'insertion': insertion_mutation,\n",
    "        'displacement': displacement_mutation,\n",
    "        'shuffle': shuffle_mutation,\n",
    "        'inversion': inversion_mutation,\n",
    "    }\n",
    "    return methods[method](individual)"
   ]
  },
  {
   "cell_type": "code",
   "execution_count": null,
   "metadata": {},
   "outputs": [],
   "source": [
    "mutate(a)"
   ]
  }
 ],
 "metadata": {
  "kernelspec": {
   "display_name": "Python 3",
   "language": "python",
   "name": "python3"
  },
  "language_info": {
   "codemirror_mode": {
    "name": "ipython",
    "version": 3
   },
   "file_extension": ".py",
   "mimetype": "text/x-python",
   "name": "python",
   "nbconvert_exporter": "python",
   "pygments_lexer": "ipython3",
   "version": "3.6.7"
  }
 },
 "nbformat": 4,
 "nbformat_minor": 2
}
