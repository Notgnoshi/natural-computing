{
 "cells": [
  {
   "cell_type": "code",
   "execution_count": null,
   "metadata": {},
   "outputs": [],
   "source": [
    "%config InlineBackend.figure_format = 'svg'\n",
    "%matplotlib inline\n",
    "\n",
    "import itertools\n",
    "import multiprocessing\n",
    "from multiprocessing.dummy import Pool as ThreadPool\n",
    "from pathlib import Path\n",
    "import random\n",
    "\n",
    "import numpy as np\n",
    "import matplotlib.pyplot as plt\n",
    "import scipy as sp\n",
    "# Apparently, SNS stands for \"Samuel Norman Seaborn\", a fictional\n",
    "# character from The West Wing\n",
    "import seaborn as sns\n",
    "import sympy\n",
    "\n",
    "sns.set()\n",
    "sympy.init_printing()\n",
    "# Make the figures directory if it doesn't exist.\n",
    "Path('figures/').mkdir(exist_ok=True)"
   ]
  },
  {
   "cell_type": "code",
   "execution_count": null,
   "metadata": {},
   "outputs": [],
   "source": [
    "def pmx(mom, dad):\n",
    "    \"\"\"Recombination using the Partially-Mapped Crossover algorithm.\n",
    "\n",
    "    :param mom: The first parent.\n",
    "    :type mom: list\n",
    "    :param dad: The second parent.\n",
    "    :type dad: list\n",
    "    :returns: The recombined child.\n",
    "    :rtype: list\n",
    "    \"\"\"\n",
    "    # Pick a random chunk 1/3 the length of mom's genes to flat-out copy.\n",
    "    l = len(mom) // 3\n",
    "    i = np.random.randint(0, len(mom) - l)\n",
    "    j = i + l\n",
    "    child = [0] * len(mom)\n",
    "    sublist1 = mom[i:j]\n",
    "    sublist2 = dad[i:j]\n",
    "    # Copy a chunk of mom's genes.\n",
    "    child[i:j] = sublist1\n",
    "    copied = set(sublist1)\n",
    "    non_copied = (e for e in sublist2 if e not in sublist1)\n",
    "\n",
    "    # Find a place for each element of dad's gene that won't clobber mom's.\n",
    "    for elem in non_copied:\n",
    "        # Get the index of the element in the dad array.\n",
    "        idx = dad.index(elem)\n",
    "        # Find a spot that won't be taken.\n",
    "        while mom[idx] in copied:\n",
    "            idx = dad.index(mom[idx])\n",
    "        # Copy the element into the child.\n",
    "        child[idx] = elem\n",
    "        copied.add(elem)\n",
    "\n",
    "    # Add the rest of dad's genes.\n",
    "    for i in range(len(mom)):\n",
    "        if dad[i] not in copied:\n",
    "            child[i] = dad[i]\n",
    "            copied.add(dad[i])\n",
    "    return child"
   ]
  },
  {
   "cell_type": "code",
   "execution_count": null,
   "metadata": {},
   "outputs": [],
   "source": [
    "p1 = [1, 2, 3, 4, 5, 6, 7, 8, 9]\n",
    "p2 = [9, 3, 7, 8, 2, 6, 5, 1, 4]"
   ]
  },
  {
   "cell_type": "code",
   "execution_count": null,
   "metadata": {},
   "outputs": [],
   "source": [
    "child = pmx(p1, p2)\n",
    "child"
   ]
  },
  {
   "cell_type": "code",
   "execution_count": null,
   "metadata": {},
   "outputs": [],
   "source": [
    "def decode(genome):\n",
    "    \"\"\"Decode a given stack-encoded genome.\n",
    "\n",
    "    :param genome: The genome to decode into a phenome.\n",
    "    :returns: The indices for a valid tour path.\n",
    "    \"\"\"\n",
    "    cities = list(range(len(genome)))\n",
    "    phenome = []\n",
    "    # Allele?\n",
    "    for gene in genome:\n",
    "        idx = gene % len(cities)\n",
    "        phenome.append(cities[idx])\n",
    "        cities.pop(idx)\n",
    "    return phenome"
   ]
  },
  {
   "cell_type": "code",
   "execution_count": null,
   "metadata": {},
   "outputs": [],
   "source": [
    "decode([304, 128, 19, 44, 212])"
   ]
  },
  {
   "cell_type": "code",
   "execution_count": null,
   "metadata": {},
   "outputs": [],
   "source": [
    "def stackx(mom, dad):\n",
    "    \"\"\"Recombination with stack encoding.\"\"\"\n",
    "    return mom[:len(mom) // 2] + dad[len(dad) // 2:]"
   ]
  },
  {
   "cell_type": "code",
   "execution_count": null,
   "metadata": {},
   "outputs": [],
   "source": [
    "def recombine(mom, dad, encoding='path'):\n",
    "    methods = {\n",
    "#         'path': pmx,\n",
    "        'stack': stackx,\n",
    "    }\n",
    "    return methods[encoding](mom, dad)"
   ]
  },
  {
   "cell_type": "code",
   "execution_count": null,
   "metadata": {},
   "outputs": [],
   "source": [
    "def generate_cities(n, scale=100):\n",
    "    return np.random.rand(n, 2) * scale\n",
    "\n",
    "def generate_population(sities, size):\n",
    "    n = len(cities)\n",
    "    population = [0] * size\n",
    "    for i in range(size):\n",
    "        individual = list(range(n))\n",
    "        random.shuffle(individual)\n",
    "        population[i] = individual\n",
    "    return population"
   ]
  },
  {
   "cell_type": "code",
   "execution_count": null,
   "metadata": {},
   "outputs": [],
   "source": [
    "cities = generate_cities(50)\n",
    "population = generate_population(cities, 1)\n",
    "path = population[0]\n",
    "\n",
    "plt.plot(cities[path][:, 0], cities[path][:, 1], 'r')\n",
    "plt.plot(cities[:, 0], cities[:, 1], 'o')\n",
    "plt.title('A random individual')\n",
    "plt.axis('scaled')\n",
    "plt.xlabel('$x$')\n",
    "plt.ylabel('$y$')\n",
    "plt.show()"
   ]
  },
  {
   "cell_type": "code",
   "execution_count": null,
   "metadata": {},
   "outputs": [],
   "source": [
    "def pairwise(iterable):\n",
    "    \"\"\"Iterate over the given iterable in pairs.\n",
    "\n",
    "    pairwise([1, 2, 3, 4]) -> (1, 2), (2, 3), (3, 4)\n",
    "    \"\"\"\n",
    "    a, b = itertools.tee(iterable)\n",
    "    # Advance b one step\n",
    "    next(b, None)\n",
    "    return zip(a, b)"
   ]
  },
  {
   "cell_type": "code",
   "execution_count": null,
   "metadata": {},
   "outputs": [],
   "source": [
    "cities = generate_cities(10)\n",
    "population = generate_population(cities, 20)\n",
    "children = [recombine(mom, dad, 'stack') for mom, dad in pairwise(population)]\n",
    "children = [decode(child) for child in children]\n",
    "children"
   ]
  },
  {
   "cell_type": "code",
   "execution_count": null,
   "metadata": {},
   "outputs": [],
   "source": [
    "# children = [recombine(mom, dad, 'path') for mom, dad in pairwise(population)]\n",
    "# children"
   ]
  },
  {
   "cell_type": "code",
   "execution_count": null,
   "metadata": {},
   "outputs": [],
   "source": [
    "def fitness(cities, path, encoding='path'):\n",
    "    \"\"\"Evaluate the fitness of the given path.\n",
    "\n",
    "    Compute the Euclidean distance between every pair of cities in the path\n",
    "    and add them together.\n",
    "\n",
    "    :param cities: The array of cities through which to compute a path.\n",
    "    :param path: The path through the given cities to compute the fitness for.\n",
    "    :param encoding: One of 'path' or 'stack'.\n",
    "    :returns: The fitness of the individual.\n",
    "    \"\"\"\n",
    "    if encoding == 'path':\n",
    "        individual = cities[path]\n",
    "    elif encoding == 'stack':\n",
    "        individual = cities[decode(path)]\n",
    "    else:\n",
    "        raise ValueError('invalid encoding')\n",
    "    return 1 / sum(np.linalg.norm(c1 - c2) for c1, c2 in pairwise(individual))"
   ]
  },
  {
   "cell_type": "code",
   "execution_count": null,
   "metadata": {},
   "outputs": [],
   "source": [
    "cities = generate_cities(50)\n",
    "population = generate_population(cities, 1)\n",
    "path = population[0]\n",
    "\n",
    "# Treat path like an ordered path.\n",
    "print(fitness(cities, path, encoding='path'))\n",
    "# Treat path like a stack-encoded intermediate genome.\n",
    "print(fitness(cities, path, encoding='stack'))"
   ]
  },
  {
   "cell_type": "code",
   "execution_count": null,
   "metadata": {},
   "outputs": [],
   "source": [
    "def mutate(path):\n",
    "    \"\"\"Inverts a random subarray in the given path.\n",
    "\n",
    "    Returns a new mutated copy of the given array.\n",
    "    \"\"\"\n",
    "    i = np.random.randint(0, len(path) - 1)\n",
    "    j = np.random.randint(i, len(path))\n",
    "    x = path.copy()\n",
    "    # Invert the subarray.\n",
    "#     x[i:j] = x[i:j][::-1]\n",
    "    x[i], x[j] = x[j], x[i]\n",
    "#     x[i] = x[i] + 1\n",
    "\n",
    "    return x"
   ]
  },
  {
   "cell_type": "code",
   "execution_count": null,
   "metadata": {},
   "outputs": [],
   "source": [
    "a = [1, 2, 3, 4, 5, 6, 7,8, 9]\n",
    "mutate(a)"
   ]
  },
  {
   "cell_type": "code",
   "execution_count": null,
   "metadata": {},
   "outputs": [],
   "source": [
    "def deterministic_selection(population, size, func, cities, encoding='path'):\n",
    "    \"\"\"Deterministically select the most fit from the given population.\n",
    "\n",
    "    Use the given fitness function to rank the population, then pick\n",
    "    the next `size` of the population to move on. This assumes that,\n",
    "    for a problem without recombination, the mutated individuals have\n",
    "    been mixed in with the original population.\n",
    "\n",
    "    :param population: The population to cull.\n",
    "    :param size: The desired size of the population.\n",
    "    :param func: The fitness function to rank the population by.\n",
    "    :param cities: The array of city locations.\n",
    "    :returns: The culled population, sorted upwards in increasing fitness.\n",
    "    \"\"\"\n",
    "    population.sort(key=lambda p: func(cities, p, encoding))\n",
    "    euthanize = len(population) - size\n",
    "    return population[euthanize:]"
   ]
  },
  {
   "cell_type": "code",
   "execution_count": null,
   "metadata": {},
   "outputs": [],
   "source": [
    "def stochastic_selection(population, size, func, cities, encoding='path'):\n",
    "    \"\"\"Randomly select the most fit from the given population.\n",
    "    \n",
    "    Select without replacement an individual with probability\n",
    "    proportional to its fitness.\n",
    "    \n",
    "    :param population: The population to cull.\n",
    "    :param size: The desired size of the population.\n",
    "    :param func: The fitness function to rank the population by.\n",
    "    :param cities: The array of city locations.\n",
    "    :returns: The culled population, unsorted.\n",
    "    \"\"\"\n",
    "    fitnesses = np.array([func(cities, p, encoding) for p in population])\n",
    "    probabilities = fitnesses / np.sum(fitnesses)\n",
    "    survivors = np.random.choice(len(population), size, replace=False, p=probabilities)\n",
    "    return [population[i] for i in survivors]"
   ]
  },
  {
   "cell_type": "code",
   "execution_count": null,
   "metadata": {},
   "outputs": [],
   "source": [
    "def select(population, size, func, cities, method='deterministic', encoding='path'):\n",
    "    \"\"\"Select the `size` most fit from the given population.\n",
    "\n",
    "    :param population: The population to cull.\n",
    "    :param size: The desired size of the population.\n",
    "    :param func: The fitness function to rank the population by.\n",
    "    :param cities: The array of city locations.\n",
    "    :param method: One of 'deterministic' or 'stochastic'.\n",
    "    :param encoding: One of 'path' or 'stack'\n",
    "    :returns: The culled population, in arbitrary order.\n",
    "    \"\"\"\n",
    "    methods = {\n",
    "        'stochastic': stochastic_selection,\n",
    "        'deterministic': deterministic_selection,\n",
    "    }\n",
    "    return methods[method](population, size, func, cities, encoding)"
   ]
  },
  {
   "cell_type": "code",
   "execution_count": null,
   "metadata": {},
   "outputs": [],
   "source": [
    "def ea(cities, size, func, iters, selection='deterministic', encoding='path'):\n",
    "    \"\"\"Run the evolutionary algorithm to solve the TSP.\n",
    "    \n",
    "    :param cities: The array of city locations.\n",
    "    :param size: The population size to use.\n",
    "    :param func: The fitness function to use.\n",
    "    :param iters: The number of generations to run.\n",
    "    :param selection: One of 'deterministic' or 'stochastic'.\n",
    "    :param encoding: One of 'path' or 'stack'. Determines recombination method.\n",
    "    \"\"\"\n",
    "    n = len(cities)\n",
    "    population = generate_population(cities, size)\n",
    "    best_fitnesses = np.zeros(iters)\n",
    "    best_individuals = np.zeros((iters, n), dtype=int)\n",
    "    for i in range(iters):\n",
    "        # TODO: Sort, shuffle, or what?\n",
    "        population.sort(key=lambda p: func(cities, p, encoding))\n",
    "        population = population[n // 3:]\n",
    "        random.shuffle(population)\n",
    "\n",
    "        children = [recombine(mom, dad, encoding) for mom, dad in pairwise(population)]\n",
    "        mutations = [mutate(c) for c in population]\n",
    "        combined = population + children + mutations\n",
    "        population = select(combined, size, func, cities, method=selection, encoding=encoding)\n",
    "\n",
    "        fitnesses = np.array([func(cities, p, encoding) for p in population])\n",
    "        best = fitnesses.argmax()\n",
    "        best_fitnesses[i] = fitnesses[best]\n",
    "        best_individuals[i] = decode(population[best]) if encoding == 'stack' else population[best]\n",
    "    return best_fitnesses, best_individuals"
   ]
  },
  {
   "cell_type": "code",
   "execution_count": null,
   "metadata": {},
   "outputs": [],
   "source": [
    "def plot_summary(fitnesses, cities, paths, description=''):\n",
    "    \"\"\"Plot a summary of a given run of the simple_ea algorithm.\"\"\"\n",
    "    plt.plot(range(len(fitnesses)), fitnesses)\n",
    "    plt.title('Population fitness over time')\n",
    "    plt.xlabel('generation')\n",
    "    plt.ylabel('fitness')\n",
    "    plt.savefig(f'figures/prob3-fitness-{description}.pdf')\n",
    "    plt.show()\n",
    "    \n",
    "    best = fitnesses.argmax()\n",
    "    solution = cities[paths[best]]\n",
    "    plt.plot(solution[:, 0], solution[:, 1], 'r')\n",
    "    plt.plot(cities[:, 0], cities[:, 1], 'o')\n",
    "    plt.title(f'The best {description} individual $f={fitnesses[best]:.5f}$')\n",
    "    plt.axis('scaled')\n",
    "    plt.xlabel('$x$')\n",
    "    plt.ylabel('$y$')\n",
    "    plt.savefig(f'figures/prob3-best-{description}.pdf')\n",
    "    plt.show()"
   ]
  },
  {
   "cell_type": "code",
   "execution_count": null,
   "metadata": {},
   "outputs": [],
   "source": [
    "N = 40\n",
    "pop_size = 50\n",
    "generations = 800\n",
    "cities = generate_cities(N)\n",
    "\n",
    "plt.plot(cities[:, 0], cities[:, 1], 'o')\n",
    "plt.title('The city locations')\n",
    "plt.axis('scaled')\n",
    "plt.xlabel('$x$')\n",
    "plt.ylabel('$y$')\n",
    "plt.savefig('figures/prob3-city-locations.pdf')\n",
    "plt.show()"
   ]
  },
  {
   "cell_type": "code",
   "execution_count": null,
   "metadata": {},
   "outputs": [],
   "source": [
    "fitnesses, paths = ea(cities, pop_size, fitness, generations, selection='deterministic', encoding='stack')\n",
    "plot_summary(fitnesses, cities, paths, description='deterministic-stack')\n",
    "\n",
    "fitnesses, paths = ea(cities, pop_size, fitness, generations, selection='stochastic', encoding='stack')\n",
    "plot_summary(fitnesses, cities, paths, description='stochastic-stack')"
   ]
  }
 ],
 "metadata": {
  "kernelspec": {
   "display_name": "Python 3",
   "language": "python",
   "name": "python3"
  },
  "language_info": {
   "codemirror_mode": {
    "name": "ipython",
    "version": 3
   },
   "file_extension": ".py",
   "mimetype": "text/x-python",
   "name": "python",
   "nbconvert_exporter": "python",
   "pygments_lexer": "ipython3",
   "version": "3.6.7"
  }
 },
 "nbformat": 4,
 "nbformat_minor": 2
}
