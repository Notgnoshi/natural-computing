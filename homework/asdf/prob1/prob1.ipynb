{
 "cells": [
  {
   "cell_type": "markdown",
   "metadata": {},
   "source": [
    "# Problem 1 - Ant Clustering Algorithm"
   ]
  },
  {
   "cell_type": "code",
   "execution_count": null,
   "metadata": {},
   "outputs": [],
   "source": [
    "%config InlineBackend.figure_format = 'svg'\n",
    "%matplotlib inline\n",
    "\n",
    "from pathlib import Path\n",
    "\n",
    "from IPython import display\n",
    "import numpy as np\n",
    "import matplotlib.pyplot as plt\n",
    "from matplotlib import colors\n",
    "import scipy as sp\n",
    "# Apparently, SNS stands for \"Samuel Norman Seaborn\", a fictional\n",
    "# character from The West Wing\n",
    "import seaborn as sns\n",
    "\n",
    "sns.set()\n",
    "# Make the figures directory if it doesn't exist.\n",
    "Path('figures/').mkdir(exist_ok=True)"
   ]
  },
  {
   "cell_type": "code",
   "execution_count": null,
   "metadata": {},
   "outputs": [],
   "source": [
    "GRID_SIZE = (200, 200)  # (width, height)\n",
    "REDS = 100\n",
    "BLUES = 100\n",
    "ANTS = 500\n",
    "\n",
    "# Coordinate indices for an ant.\n",
    "X_COORD = 0\n",
    "Y_COORD = 1\n",
    "L_COORD = 2\n",
    "\n",
    "# The values an ant[L_COORD] can be.\n",
    "UNLOADED = 0\n",
    "BLUE = 1\n",
    "RED = 2"
   ]
  },
  {
   "cell_type": "markdown",
   "metadata": {},
   "source": [
    "Due to the algorithm, it makes the most sense to store the objects in the grid, but have an array of the ants. This because we need to be able to look up objects in a neighborhood around each ant, and we need to iterate over each of the ants.\n",
    "\n",
    "I'm undecided, but I think that if an object is loaded on an ant, it should be removed from the grid to eliminate keeping track of each ant's source/destination."
   ]
  },
  {
   "cell_type": "code",
   "execution_count": null,
   "metadata": {},
   "outputs": [],
   "source": [
    "def init_grid(grid_size, num_reds, num_blues):\n",
    "    \"\"\"Returns a randomly initialized grid of objects.\n",
    "    \n",
    "    The grid is a 2D array of integers, where\n",
    "    0 - unoccupied by an object\n",
    "    1 - occupied by a blue object\n",
    "    2 - occupied by a red object\n",
    "    \"\"\"\n",
    "    width, height = grid_size\n",
    "    # Use 1D arrays because that's all I can generate random indices for.\n",
    "    object_grid = np.zeros(height * width, dtype=int)\n",
    "    # Create REDS+BLUES random indices for an array of size height*width.\n",
    "    random_indices = np.random.choice(\n",
    "        height * width, num_reds + num_blues, replace=False\n",
    "    )\n",
    "    object_grid[random_indices[:num_reds]] = RED\n",
    "    object_grid[random_indices[num_reds:]] = BLUE\n",
    "    return object_grid.reshape(grid_size)"
   ]
  },
  {
   "cell_type": "code",
   "execution_count": null,
   "metadata": {},
   "outputs": [],
   "source": [
    "def init_ants(grid_size, num_ants):\n",
    "    \"\"\"Returns randomly initialized array of ants.\n",
    "    \n",
    "    Each ant is a (x, y, load) tuple, where the load is one of\n",
    "    0 - unloaded\n",
    "    1 - blue\n",
    "    2 - red\n",
    "    \"\"\"\n",
    "    width, height = grid_size\n",
    "    # Each ant is a 3-tuple (x, y, load)\n",
    "    # TODO: I'm really not convinced this is the best representation for an ant.\n",
    "    ants = np.zeros((num_ants, 3), dtype=int)\n",
    "    # This is an array of indices into the grid as if it were 1D.\n",
    "    ant_indices = np.random.choice(height * width, num_ants, replace=False)\n",
    "    for ant, index in zip(ants, ant_indices):\n",
    "        ant[X_COORD] = index % width\n",
    "        ant[Y_COORD] = index // width\n",
    "    return ants"
   ]
  },
  {
   "cell_type": "code",
   "execution_count": null,
   "metadata": {},
   "outputs": [],
   "source": [
    "# TODO: Plot the ants?\n",
    "# TODO: Increase the figure sie.\n",
    "def plot_grid(grid, blocking=False):\n",
    "    \"\"\"Plot the given grid of objects.\n",
    "    \n",
    "    :param grid: The grid to plot.\n",
    "    :param blocking: Whether or not to plot in interactive mode, optional.\n",
    "    \"\"\"\n",
    "    width, height = grid.shape\n",
    "    cmap = colors.ListedColormap([\"white\", \"blue\", \"red\"])\n",
    "\n",
    "    # Start a new figure each iteration, because in live plotting mode, it takes\n",
    "    # exponentially longer for each frame because it's adding a new image to an\n",
    "    # existing figure. I think.\n",
    "    plt.clf()\n",
    "    plt.imshow(grid, cmap=cmap)\n",
    "    plt.title(\"\")\n",
    "    plt.axis(\"off\")\n",
    "\n",
    "    if blocking:\n",
    "        plt.show()\n",
    "    else:\n",
    "        # Plot as fast as possible, because the iterations will likely be slow.\n",
    "        display.display(plt.gcf())\n",
    "        display.clear_output(wait=True)"
   ]
  },
  {
   "cell_type": "code",
   "execution_count": null,
   "metadata": {},
   "outputs": [],
   "source": [
    "# TODO: Find some way to keep this off the bottom of the screen.\n",
    "for _ in range(10):\n",
    "    grid = init_grid(GRID_SIZE, REDS, BLUES)\n",
    "    plot_grid(grid)"
   ]
  }
 ],
 "metadata": {
  "kernelspec": {
   "display_name": "Python 3",
   "language": "python",
   "name": "python3"
  },
  "language_info": {
   "codemirror_mode": {
    "name": "ipython",
    "version": 3
   },
   "file_extension": ".py",
   "mimetype": "text/x-python",
   "name": "python",
   "nbconvert_exporter": "python",
   "pygments_lexer": "ipython3",
   "version": "3.6.7"
  }
 },
 "nbformat": 4,
 "nbformat_minor": 2
}
